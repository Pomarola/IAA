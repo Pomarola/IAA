{
  "nbformat": 4,
  "nbformat_minor": 0,
  "metadata": {
    "colab": {
      "provenance": []
    },
    "kernelspec": {
      "name": "python3",
      "display_name": "Python 3"
    },
    "language_info": {
      "name": "python"
    }
  },
  "cells": [
    {
      "cell_type": "markdown",
      "source": [
        "# IIA 2024 - Aprendizaje Automatizado\n",
        "\n",
        "## Introducción a Jupyter Notebooks y Generación de Datos"
      ],
      "metadata": {
        "id": "v8Sa4wRPHxZL"
      }
    },
    {
      "cell_type": "code",
      "execution_count": null,
      "metadata": {
        "id": "UDkNZ_jzG71j"
      },
      "outputs": [],
      "source": [
        "import matplotlib.pyplot as plt\n",
        "import numpy as np\n",
        "import pandas as pd"
      ]
    },
    {
      "cell_type": "markdown",
      "source": [
        "## Diagonales\n",
        "\n",
        "Generar n datos con d inputs:\n",
        "\n",
        "  - n/2 pertenecientes a la categoría 0. Esta clase corresponde a puntos generados al azar, provenientes de una distribución normal, con centro en el (-1, -1, -1, ... , -1) y matriz de covarianza diagonal, con desviación estándar igual a C * SQRT(d).\n",
        "  - n/2 pertenecientes a la categoría 1. Esta clase corresponde a puntos generados al azar, provenientes de una distribución normal, con centro en el (1, 1, 1, ... ,1) y matriz de covarianza diagonal, con desviación estándar igual a C * SQRT(d).\n"
      ],
      "metadata": {
        "id": "ZDufflloIHHo"
      }
    },
    {
      "cell_type": "code",
      "source": [
        "def diagonales(n, d, C):\n",
        "  pass"
      ],
      "metadata": {
        "id": "dFZtOrGRIOrW"
      },
      "execution_count": null,
      "outputs": []
    },
    {
      "cell_type": "markdown",
      "source": [
        "Verificamos ahora los datos generados, mostrándolos con matplotlib.pyplot"
      ],
      "metadata": {
        "id": "46vC4fcQJLMJ"
      }
    },
    {
      "cell_type": "code",
      "source": [
        "diag_df = diagonales(200, 2, 0.75)\n",
        "\n",
        "# diferenciar entre clase 0 y clase 1\n",
        "# To-Do\n",
        "\n",
        "# plt.scatter(xs0, ys0, color='red')\n",
        "# plt.scatter(xs1, ys1, color='blue')\n",
        "# plt.show()"
      ],
      "metadata": {
        "id": "FkorNOQcJQcH"
      },
      "execution_count": null,
      "outputs": []
    },
    {
      "cell_type": "markdown",
      "source": [
        "## Paralelas\n",
        "\n",
        "Igual al punto anterior, pero las distribuciones tienen centro en el ( 1, 0, 0, .... , 0 ) y en el ( -1, 0, 0, .... , 0 ), respectivamente y la desviación estandar es igual a C independientemente de d."
      ],
      "metadata": {
        "id": "Dp3dOwR9IPFb"
      }
    },
    {
      "cell_type": "code",
      "source": [
        "def paralelas(n, d, C):\n",
        "  pass"
      ],
      "metadata": {
        "id": "jSFCiGvMIT-y"
      },
      "execution_count": null,
      "outputs": []
    },
    {
      "cell_type": "markdown",
      "source": [
        "## Espirales\n",
        "\n",
        "Generar n datos. De los n puntos generados, n/2 deben pertenecer a cada clase.\n",
        "\n",
        "Los datos tienen 2 inputs, x e y, que corresponden a puntos generados al azar con una distribución UNIFORME (en dicho sistema de referencia x-y) dentro de un circulo de radio 1.\n",
        "\n",
        "El output es binario, correspondiendo la clase 0 a los puntos que se encuentran entre las curvas ro = theta/4pi y ro = (theta + pi)/4pi (en polares) y la clase 1 al resto."
      ],
      "metadata": {
        "id": "ghtUorLAIUwD"
      }
    },
    {
      "cell_type": "code",
      "source": [
        "def espirales(n):\n",
        "  pass"
      ],
      "metadata": {
        "id": "Lwc3ussYI7aE"
      },
      "execution_count": null,
      "outputs": []
    }
  ]
}